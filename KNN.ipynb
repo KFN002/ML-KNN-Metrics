{
 "cells": [
  {
   "cell_type": "code",
   "execution_count": 2,
   "id": "initial_id",
   "metadata": {
    "collapsed": true,
    "ExecuteTime": {
     "end_time": "2024-03-26T15:32:06.069453500Z",
     "start_time": "2024-03-26T15:32:06.051801Z"
    }
   },
   "outputs": [],
   "source": [
    "import pandas as pd\n",
    "from sklearn.model_selection import train_test_split\n",
    "from sklearn.neighbors import KNeighborsClassifier\n",
    "\n",
    "data = pd.read_csv('penguins.csv')\n",
    "\n",
    "data.dropna(inplace=True)"
   ]
  },
  {
   "cell_type": "code",
   "outputs": [],
   "source": [
    "labels = data['species']\n",
    "features = data[['bill_length_mm', 'bill_depth_mm']]\n",
    "\n",
    "train_features, test_features, train_labels, test_labels = train_test_split(\n",
    "    features, labels, test_size=0.2, random_state=123)\n",
    "\n",
    "best_accuracy = 0.0\n",
    "worst_accuracy = 1.0"
   ],
   "metadata": {
    "collapsed": false,
    "ExecuteTime": {
     "end_time": "2024-03-26T15:32:06.081298800Z",
     "start_time": "2024-03-26T15:32:06.073265200Z"
    }
   },
   "id": "4eb4f8f3f7559e2f",
   "execution_count": 3
  },
  {
   "cell_type": "code",
   "outputs": [],
   "source": [
    "for n_neighbors in range(1, 11):\n",
    "    for weights in ['uniform', 'distance']:\n",
    "        knn = KNeighborsClassifier(n_neighbors=n_neighbors, weights=weights)\n",
    "        knn.fit(train_features, train_labels)\n",
    "\n",
    "        accuracy = knn.score(test_features, test_labels)\n",
    "\n",
    "        if accuracy > best_accuracy:\n",
    "            best_accuracy = accuracy\n",
    "            best_params = {'n_neighbors': n_neighbors, 'weights': weights}\n",
    "        if accuracy < worst_accuracy:\n",
    "            worst_accuracy = accuracy\n",
    "            worst_params = {'n_neighbors': n_neighbors, 'weights': weights}"
   ],
   "metadata": {
    "collapsed": false,
    "ExecuteTime": {
     "end_time": "2024-03-26T15:32:06.170512700Z",
     "start_time": "2024-03-26T15:32:06.086300500Z"
    }
   },
   "id": "405b55c52cf47729",
   "execution_count": 4
  },
  {
   "cell_type": "code",
   "outputs": [
    {
     "name": "stdout",
     "output_type": "stream",
     "text": [
      "Best accuracy: 0.940299\n",
      "Worst accuracy: 0.895522\n"
     ]
    }
   ],
   "source": [
    "print('Best accuracy: {:.6f}'.format(best_accuracy))\n",
    "print('Worst accuracy: {:.6f}'.format(worst_accuracy))"
   ],
   "metadata": {
    "collapsed": false,
    "ExecuteTime": {
     "end_time": "2024-03-26T15:32:06.181648700Z",
     "start_time": "2024-03-26T15:32:06.170512700Z"
    }
   },
   "id": "ac15d6aee840c18",
   "execution_count": 5
  }
 ],
 "metadata": {
  "kernelspec": {
   "display_name": "Python 3",
   "language": "python",
   "name": "python3"
  },
  "language_info": {
   "codemirror_mode": {
    "name": "ipython",
    "version": 2
   },
   "file_extension": ".py",
   "mimetype": "text/x-python",
   "name": "python",
   "nbconvert_exporter": "python",
   "pygments_lexer": "ipython2",
   "version": "2.7.6"
  }
 },
 "nbformat": 4,
 "nbformat_minor": 5
}
